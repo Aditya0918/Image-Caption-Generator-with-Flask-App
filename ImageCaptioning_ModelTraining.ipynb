{
 "cells": [
  {
   "cell_type": "code",
   "execution_count": null,
   "metadata": {
    "id": "tdD-octNnglM"
   },
   "outputs": [],
   "source": [
    "import numpy as np\n",
    "import pandas as pd\n",
    "import os\n",
    "import cv2\n",
    "from glob import glob\n",
    "import matplotlib.pyplot as plt"
   ]
  },
  {
   "cell_type": "code",
   "execution_count": null,
   "metadata": {
    "id": "rsv6AScnm7BT"
   },
   "outputs": [],
   "source": [
    "import pickle"
   ]
  },
  {
   "cell_type": "code",
   "execution_count": null,
   "metadata": {
    "id": "5HKfyCiqm7BU"
   },
   "outputs": [],
   "source": [
    "pickle_images_features = open(\"images_features.pickle\",\"rb\")\n",
    "images_features = pickle.load(pickle_images_features)"
   ]
  },
  {
   "cell_type": "code",
   "execution_count": null,
   "metadata": {
    "id": "N-ExZTJ8m7BU"
   },
   "outputs": [],
   "source": [
    "pickle_images_captions = open(\"images_captions.pickle\",\"rb\")\n",
    "images_captions = pickle.load(pickle_images_captions)"
   ]
  },
  {
   "cell_type": "code",
   "execution_count": null,
   "metadata": {
    "id": "Z5qETMRum7BV"
   },
   "outputs": [],
   "source": [
    "import tensorflow"
   ]
  },
  {
   "cell_type": "code",
   "execution_count": null,
   "metadata": {
    "id": "zzAvNZ0zm7BW"
   },
   "outputs": [],
   "source": [
    "from tensorflow.keras.utils import to_categorical\n",
    "from tensorflow.python.keras.preprocessing.sequence import pad_sequences"
   ]
  },
  {
   "cell_type": "code",
   "execution_count": null,
   "metadata": {
    "id": "U-PxUbArm7BX"
   },
   "outputs": [],
   "source": [
    "MAX_LEN=36\n",
    "vocab_size=8912\n",
    "num_classes=vocab_size+1"
   ]
  },
  {
   "cell_type": "code",
   "execution_count": null,
   "metadata": {
    "id": "2rzpZJQBm7BX"
   },
   "outputs": [],
   "source": [
    "del images_captions['']"
   ]
  },
  {
   "cell_type": "code",
   "execution_count": null,
   "metadata": {
    "id": "i_MZLo2Dm7BX"
   },
   "outputs": [],
   "source": [
    "X_features=[]\n",
    "y_input=[]\n",
    "y_output=[]\n",
    "\n",
    "for key,value in images_captions.items():\n",
    "  \n",
    "  for caption_index in value:\n",
    "    \n",
    "    for i in range(1,len(caption_index)):\n",
    "      \n",
    "      X_features.append(images_features[key])\n",
    "      input_caption=[caption_index[:i]]\n",
    "      output_caption=caption_index[i]\n",
    "      \n",
    "      input_caption=pad_sequences(input_caption,maxlen=MAX_LEN,padding='post',truncating='post')[0]\n",
    "      output_caption=to_categorical([output_caption],num_classes=num_classes)[0]\n",
    "      \n",
    "      y_input.append(input_caption)\n",
    "      y_output.append(output_caption)\n"
   ]
  },
  {
   "cell_type": "code",
   "execution_count": null,
   "metadata": {
    "id": "OPJzzUCUm7BX",
    "outputId": "a77c6e62-d151-4184-b55a-cbfdecad265e"
   },
   "outputs": [
    {
     "data": {
      "text/plain": [
       "495303"
      ]
     },
     "execution_count": 12,
     "metadata": {
      "tags": []
     },
     "output_type": "execute_result"
    }
   ],
   "source": [
    "len(X_features)"
   ]
  },
  {
   "cell_type": "code",
   "execution_count": null,
   "metadata": {
    "id": "onbu_xgkm7BY",
    "outputId": "35794dda-a636-48b5-a166-c81fd84571ba"
   },
   "outputs": [
    {
     "data": {
      "text/plain": [
       "495303"
      ]
     },
     "execution_count": 13,
     "metadata": {
      "tags": []
     },
     "output_type": "execute_result"
    }
   ],
   "source": [
    "len(y_input)"
   ]
  },
  {
   "cell_type": "code",
   "execution_count": null,
   "metadata": {
    "id": "eBcJF12jm7Bc",
    "outputId": "f2bdf4e3-1c76-4f3c-ba98-c000133aa468"
   },
   "outputs": [
    {
     "data": {
      "text/plain": [
       "495303"
      ]
     },
     "execution_count": 14,
     "metadata": {
      "tags": []
     },
     "output_type": "execute_result"
    }
   ],
   "source": [
    "len(y_output)"
   ]
  },
  {
   "cell_type": "code",
   "execution_count": null,
   "metadata": {
    "id": "dWUDFuK0m7Bc",
    "outputId": "6a8a7594-bab9-4f4c-c708-7c7d4c3f6d7a"
   },
   "outputs": [
    {
     "data": {
      "text/plain": [
       "list"
      ]
     },
     "execution_count": 15,
     "metadata": {
      "tags": []
     },
     "output_type": "execute_result"
    }
   ],
   "source": [
    "type(X_features)"
   ]
  },
  {
   "cell_type": "code",
   "execution_count": null,
   "metadata": {
    "id": "INTG8jKUm7Bd"
   },
   "outputs": [],
   "source": [
    "X_features=np.array(X_features)\n",
    "y_input=np.array(y_input)\n",
    "y_output=np.array(y_output)\n"
   ]
  },
  {
   "cell_type": "code",
   "execution_count": null,
   "metadata": {
    "id": "eBlpzvygm7Bd",
    "outputId": "ae34aa22-75fa-49f2-baf5-b2344b17ee38"
   },
   "outputs": [
    {
     "data": {
      "text/plain": [
       "(495303, 2048)"
      ]
     },
     "execution_count": 17,
     "metadata": {
      "tags": []
     },
     "output_type": "execute_result"
    }
   ],
   "source": [
    "X_features.shape"
   ]
  },
  {
   "cell_type": "code",
   "execution_count": null,
   "metadata": {
    "id": "_LHihG5fm7Bd",
    "outputId": "f25d0386-5833-4a78-de71-eed764ed9c42"
   },
   "outputs": [
    {
     "data": {
      "text/plain": [
       "(495303, 36)"
      ]
     },
     "execution_count": 18,
     "metadata": {
      "tags": []
     },
     "output_type": "execute_result"
    }
   ],
   "source": [
    "y_input.shape"
   ]
  },
  {
   "cell_type": "code",
   "execution_count": null,
   "metadata": {
    "id": "_WlB1C36m7Bd",
    "outputId": "ec4448bc-1ded-4624-d6f3-c1fbcd6f664e"
   },
   "outputs": [
    {
     "data": {
      "text/plain": [
       "(495303, 8913)"
      ]
     },
     "execution_count": 19,
     "metadata": {
      "tags": []
     },
     "output_type": "execute_result"
    }
   ],
   "source": [
    "y_output.shape"
   ]
  },
  {
   "cell_type": "code",
   "execution_count": null,
   "metadata": {
    "id": "ObCmM8yQm7Bd",
    "outputId": "2af0a7e4-bab6-41f1-8753-b5979dfd53c0"
   },
   "outputs": [
    {
     "data": {
      "text/plain": [
       "numpy.ndarray"
      ]
     },
     "execution_count": 20,
     "metadata": {
      "tags": []
     },
     "output_type": "execute_result"
    }
   ],
   "source": [
    "type(y_output)"
   ]
  },
  {
   "cell_type": "code",
   "execution_count": null,
   "metadata": {
    "id": "rhw7y_Xam7Be",
    "outputId": "811d973b-7c2b-4e35-ed12-812477111e97"
   },
   "outputs": [
    {
     "data": {
      "text/plain": [
       "numpy.ndarray"
      ]
     },
     "execution_count": 21,
     "metadata": {
      "tags": []
     },
     "output_type": "execute_result"
    }
   ],
   "source": [
    "type(y_input)"
   ]
  },
  {
   "cell_type": "code",
   "execution_count": null,
   "metadata": {
    "id": "zMZZMimSm7Be",
    "outputId": "46124299-b430-41e0-ce14-fb3296f2ccdf"
   },
   "outputs": [
    {
     "data": {
      "text/plain": [
       "(495303, 36)"
      ]
     },
     "execution_count": 23,
     "metadata": {
      "tags": []
     },
     "output_type": "execute_result"
    }
   ],
   "source": [
    "y_input.shape"
   ]
  },
  {
   "cell_type": "code",
   "execution_count": null,
   "metadata": {
    "id": "ALQJs-pCm7Be",
    "outputId": "480c61e1-1ba4-4f65-c6fe-ec769c122bff"
   },
   "outputs": [
    {
     "data": {
      "text/plain": [
       "array([[ 1,  0,  0, ...,  0,  0,  0],\n",
       "       [ 1,  2,  0, ...,  0,  0,  0],\n",
       "       [ 1,  2, 43, ...,  0,  0,  0],\n",
       "       ...,\n",
       "       [ 1, 48, 49, ...,  0,  0,  0],\n",
       "       [ 1, 48, 49, ...,  0,  0,  0],\n",
       "       [ 1, 48, 49, ...,  0,  0,  0]], dtype=int32)"
      ]
     },
     "execution_count": 24,
     "metadata": {
      "tags": []
     },
     "output_type": "execute_result"
    }
   ],
   "source": [
    "y_input"
   ]
  },
  {
   "cell_type": "code",
   "execution_count": null,
   "metadata": {
    "id": "Q14Si4uxm7Bf",
    "outputId": "59641753-2688-4f0b-cf8a-971f6085a72b"
   },
   "outputs": [
    {
     "data": {
      "text/plain": [
       "array([[0., 0., 1., ..., 0., 0., 0.],\n",
       "       [0., 0., 0., ..., 0., 0., 0.],\n",
       "       [0., 0., 0., ..., 0., 0., 0.],\n",
       "       ...,\n",
       "       [0., 0., 0., ..., 0., 0., 0.],\n",
       "       [0., 0., 0., ..., 0., 0., 0.],\n",
       "       [0., 0., 0., ..., 0., 0., 0.]], dtype=float32)"
      ]
     },
     "execution_count": 25,
     "metadata": {
      "tags": []
     },
     "output_type": "execute_result"
    }
   ],
   "source": [
    "y_output"
   ]
  },
  {
   "cell_type": "markdown",
   "metadata": {
    "id": "QepHi_rdm7Bf"
   },
   "source": [
    "## Creating a Model"
   ]
  },
  {
   "cell_type": "code",
   "execution_count": null,
   "metadata": {
    "id": "JkzNvMT8nDco"
   },
   "outputs": [],
   "source": [
    "import tensorflow"
   ]
  },
  {
   "cell_type": "code",
   "execution_count": null,
   "metadata": {
    "id": "UPbQoKUEm7Bf"
   },
   "outputs": [],
   "source": [
    "from tensorflow.keras.models import Model,Sequential\n",
    "from tensorflow.keras.layers import Dense,Input,LSTM,Dropout,Embedding,Flatten,Convolution2D,TimeDistributed,Bidirectional,RepeatVector,Concatenate,Activation\n",
    "from tensorflow.keras.callbacks import ModelCheckpoint\n"
   ]
  },
  {
   "cell_type": "code",
   "execution_count": null,
   "metadata": {
    "id": "DTYFTwV8m7Bf"
   },
   "outputs": [],
   "source": [
    "output_dims=128\n",
    "MAX_LEN=36\n",
    "vocab_size=8912\n",
    "num_classes=vocab_size+1\n",
    "\n",
    "# Creating a model for images\n",
    "sub_model_img=Sequential()\n",
    "sub_model_img.add(Dense(units=output_dims,input_shape=(2048,),activation='relu'))\n",
    "sub_model_img.add(RepeatVector(MAX_LEN))\n",
    "\n",
    "# Creating a model for caption input\n",
    "\n",
    "sub_model_caption=Sequential()\n",
    "sub_model_caption.add(Embedding(input_dim=vocab_size+1,output_dim=output_dims,input_length=MAX_LEN))\n",
    "sub_model_caption.add(LSTM(units=256,return_sequences=True))\n",
    "sub_model_caption.add(TimeDistributed(Dense(units=output_dims)))\n",
    "\n",
    "model_concatenation=Concatenate()([sub_model_img.output,sub_model_caption.output])\n",
    "final_model=LSTM(units=256,return_sequences=True)(model_concatenation)\n",
    "final_model=LSTM(units=512,return_sequences=False)(final_model)\n",
    "final_model=Dense(units=num_classes)(final_model)\n",
    "output=Activation('softmax')(final_model)\n",
    "\n",
    "model=Model(inputs=[sub_model_img.input,sub_model_caption.input],outputs=output)\n"
   ]
  },
  {
   "cell_type": "code",
   "execution_count": null,
   "metadata": {
    "id": "PBO17KdAm7Bg"
   },
   "outputs": [],
   "source": [
    "model.compile(loss='categorical_crossentropy',optimizer='RMSprop',metrics=['accuracy'])"
   ]
  },
  {
   "cell_type": "code",
   "execution_count": null,
   "metadata": {
    "id": "_e4k9M_Nm7Bg",
    "outputId": "9512595e-998d-4a24-8fad-684683b4a5db"
   },
   "outputs": [
    {
     "name": "stdout",
     "output_type": "stream",
     "text": [
      "Model: \"functional_1\"\n",
      "__________________________________________________________________________________________________\n",
      "Layer (type)                    Output Shape         Param #     Connected to                     \n",
      "==================================================================================================\n",
      "embedding_input (InputLayer)    [(None, 36)]         0                                            \n",
      "__________________________________________________________________________________________________\n",
      "dense_input (InputLayer)        [(None, 2048)]       0                                            \n",
      "__________________________________________________________________________________________________\n",
      "embedding (Embedding)           (None, 36, 128)      1140864     embedding_input[0][0]            \n",
      "__________________________________________________________________________________________________\n",
      "dense (Dense)                   (None, 128)          262272      dense_input[0][0]                \n",
      "__________________________________________________________________________________________________\n",
      "lstm (LSTM)                     (None, 36, 256)      394240      embedding[0][0]                  \n",
      "__________________________________________________________________________________________________\n",
      "repeat_vector (RepeatVector)    (None, 36, 128)      0           dense[0][0]                      \n",
      "__________________________________________________________________________________________________\n",
      "time_distributed (TimeDistribut (None, 36, 128)      32896       lstm[0][0]                       \n",
      "__________________________________________________________________________________________________\n",
      "concatenate (Concatenate)       (None, 36, 256)      0           repeat_vector[0][0]              \n",
      "                                                                 time_distributed[0][0]           \n",
      "__________________________________________________________________________________________________\n",
      "lstm_1 (LSTM)                   (None, 36, 256)      525312      concatenate[0][0]                \n",
      "__________________________________________________________________________________________________\n",
      "lstm_2 (LSTM)                   (None, 512)          1574912     lstm_1[0][0]                     \n",
      "__________________________________________________________________________________________________\n",
      "dense_2 (Dense)                 (None, 8913)         4572369     lstm_2[0][0]                     \n",
      "__________________________________________________________________________________________________\n",
      "activation (Activation)         (None, 8913)         0           dense_2[0][0]                    \n",
      "==================================================================================================\n",
      "Total params: 8,502,865\n",
      "Trainable params: 8,502,865\n",
      "Non-trainable params: 0\n",
      "__________________________________________________________________________________________________\n"
     ]
    }
   ],
   "source": [
    "model.summary()"
   ]
  },
  {
   "cell_type": "code",
   "execution_count": null,
   "metadata": {
    "colab": {
     "base_uri": "https://localhost:8080/",
     "height": 834
    },
    "id": "rC7BuTclnVEY",
    "outputId": "a546ef86-7818-46a3-9ce7-181bc1df19f6"
   },
   "outputs": [
    {
     "data": {
      "image/png": "[encoded data removed]",
      "text/plain": [
       "<IPython.core.display.Image object>"
      ]
     },
     "execution_count": 12,
     "metadata": {
      "tags": []
     },
     "output_type": "execute_result"
    }
   ],
   "source": [
    "tensorflow.keras.utils.plot_model(model, show_layer_names=True,show_shapes=True)"
   ]
  },
  {
   "cell_type": "code",
   "execution_count": null,
   "metadata": {
    "id": "Qke_xQOPm7Bh",
    "outputId": "359c792b-27dc-4144-9ff5-5c9fb8e46198"
   },
   "outputs": [
    {
     "name": "stdout",
     "output_type": "stream",
     "text": [
      "Epoch 1/30\n",
      "968/968 [==============================] - 1111s 1s/step - loss: 4.7900 - accuracy: 0.1894\n",
      "Epoch 2/30\n",
      "968/968 [==============================] - 1111s 1s/step - loss: 4.0427 - accuracy: 0.2958\n",
      "Epoch 3/30\n",
      "968/968 [==============================] - 1115s 1s/step - loss: 3.4709 - accuracy: 0.3637\n",
      "Epoch 4/30\n",
      "968/968 [==============================] - 1136s 1s/step - loss: 3.1870 - accuracy: 0.3970\n",
      "Epoch 5/30\n",
      "968/968 [==============================] - 1119s 1s/step - loss: 3.0366 - accuracy: 0.4156\n",
      "Epoch 6/30\n",
      "968/968 [==============================] - 1120s 1s/step - loss: 2.9301 - accuracy: 0.4299\n",
      "Epoch 7/30\n",
      "968/968 [==============================] - 1137s 1s/step - loss: 2.8485 - accuracy: 0.4422\n",
      "Epoch 8/30\n",
      "968/968 [==============================] - 1119s 1s/step - loss: 2.7780 - accuracy: 0.4517\n",
      "Epoch 9/30\n",
      "968/968 [==============================] - 1119s 1s/step - loss: 2.7198 - accuracy: 0.4613\n",
      "Epoch 10/30\n",
      "968/968 [==============================] - 1120s 1s/step - loss: 2.6648 - accuracy: 0.4694\n",
      "Epoch 11/30\n",
      "968/968 [==============================] - 1136s 1s/step - loss: 2.6159 - accuracy: 0.4769\n",
      "Epoch 12/30\n",
      "968/968 [==============================] - 1124s 1s/step - loss: 2.5657 - accuracy: 0.4844\n",
      "Epoch 13/30\n",
      "968/968 [==============================] - 1114s 1s/step - loss: 2.5155 - accuracy: 0.4924\n",
      "Epoch 14/30\n",
      "968/968 [==============================] - 1114s 1s/step - loss: 2.4668 - accuracy: 0.4998\n",
      "Epoch 15/30\n",
      "968/968 [==============================] - 1137s 1s/step - loss: 2.4153 - accuracy: 0.5081\n",
      "Epoch 16/30\n",
      "968/968 [==============================] - 1121s 1s/step - loss: 2.3648 - accuracy: 0.5155\n",
      "Epoch 17/30\n",
      "968/968 [==============================] - 1122s 1s/step - loss: 2.3184 - accuracy: 0.5235\n",
      "Epoch 18/30\n",
      "968/968 [==============================] - 1116s 1s/step - loss: 2.2762 - accuracy: 0.5300\n",
      "Epoch 19/30\n",
      "968/968 [==============================] - 1137s 1s/step - loss: 2.2324 - accuracy: 0.5369\n",
      "Epoch 20/30\n",
      "968/968 [==============================] - 1115s 1s/step - loss: 2.1817 - accuracy: 0.5439\n",
      "Epoch 21/30\n",
      "968/968 [==============================] - 1110s 1s/step - loss: 2.1407 - accuracy: 0.5502\n",
      "Epoch 22/30\n",
      "968/968 [==============================] - 1138s 1s/step - loss: 2.1041 - accuracy: 0.5561\n",
      "Epoch 23/30\n",
      "968/968 [==============================] - 1120s 1s/step - loss: 2.0649 - accuracy: 0.5627\n",
      "Epoch 24/30\n",
      "968/968 [==============================] - 1120s 1s/step - loss: 2.0235 - accuracy: 0.5682\n",
      "Epoch 25/30\n",
      "968/968 [==============================] - 1121s 1s/step - loss: 1.9839 - accuracy: 0.5743\n",
      "Epoch 26/30\n",
      "968/968 [==============================] - 1138s 1s/step - loss: 1.9455 - accuracy: 0.5811\n",
      "Epoch 27/30\n",
      "968/968 [==============================] - 1114s 1s/step - loss: 1.9058 - accuracy: 0.5875\n",
      "Epoch 28/30\n",
      "968/968 [==============================] - 1111s 1s/step - loss: 1.8794 - accuracy: 0.5923\n",
      "Epoch 29/30\n",
      "968/968 [==============================] - 1115s 1s/step - loss: 1.8535 - accuracy: 0.5955\n",
      "Epoch 30/30\n",
      "968/968 [==============================] - 1134s 1s/step - loss: 1.8191 - accuracy: 0.6002\n"
     ]
    },
    {
     "data": {
      "text/plain": [
       "<tensorflow.python.keras.callbacks.History at 0x7fe7d7ba6278>"
      ]
     },
     "execution_count": 30,
     "metadata": {
      "tags": []
     },
     "output_type": "execute_result"
    }
   ],
   "source": [
    "model.fit([X_features,y_input],y_output,batch_size=512,epochs=30)"
   ]
  },
  {
   "cell_type": "code",
   "execution_count": null,
   "metadata": {
    "id": "3pLePFNLm7Bh"
   },
   "outputs": [],
   "source": [
    "model.save_weights(\"model_weights.h5\")"
   ]
  },
  {
   "cell_type": "code",
   "execution_count": null,
   "metadata": {
    "id": "fQ2QgGmdm7Bh"
   },
   "outputs": [],
   "source": [
    "model.save(\"model.h5\")"
   ]
  },
  {
   "cell_type": "code",
   "execution_count": null,
   "metadata": {
    "id": "X_Ed0AfMm7Bi",
    "outputId": "0e83b7e6-056b-404f-c61f-d4a5cc28bf91"
   },
   "outputs": [
    {
     "name": "stdout",
     "output_type": "stream",
     "text": [
      "Copying file://model.h5 [Content-Type=application/octet-stream]...\n",
      "\\ [1 files][ 64.9 MiB/ 64.9 MiB]                                                \n",
      "Operation completed over 1 objects/64.9 MiB.                                     \n"
     ]
    }
   ],
   "source": [
    "!gsutil cp 'model.h5' gs://aditya_1"
   ]
  },
  {
   "cell_type": "code",
   "execution_count": null,
   "metadata": {
    "id": "n0Av47mjm7Bi",
    "outputId": "a3789b44-58ee-46e9-b40c-3b48d73bd038"
   },
   "outputs": [
    {
     "name": "stdout",
     "output_type": "stream",
     "text": [
      "Copying file://model_weights.h5 [Content-Type=application/octet-stream]...\n",
      "| [1 files][ 32.5 MiB/ 32.5 MiB]                                                \n",
      "Operation completed over 1 objects/32.5 MiB.                                     \n"
     ]
    }
   ],
   "source": [
    "!gsutil cp 'model_weights.h5' gs://aditya_1"
   ]
  },
  {
   "cell_type": "code",
   "execution_count": null,
   "metadata": {
    "id": "jL_utpjom7Bi"
   },
   "outputs": [],
   "source": []
  }
 ],
 "metadata": {
  "accelerator": "GPU",
  "colab": {
   "collapsed_sections": [],
   "name": "ImageCaptioning_ModelTraining.ipynb",
   "provenance": [],
   "toc_visible": true
  },
  "kernelspec": {
   "display_name": "Python 3",
   "language": "python",
   "name": "python3"
  },
  "language_info": {
   "codemirror_mode": {
    "name": "ipython",
    "version": 3
   },
   "file_extension": ".py",
   "mimetype": "text/x-python",
   "name": "python",
   "nbconvert_exporter": "python",
   "pygments_lexer": "ipython3",
   "version": "3.8.5"
  }
 },
 "nbformat": 4,
 "nbformat_minor": 1
}
